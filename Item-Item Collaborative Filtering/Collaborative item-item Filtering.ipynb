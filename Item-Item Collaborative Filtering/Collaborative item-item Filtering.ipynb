{
 "cells": [
  {
   "cell_type": "markdown",
   "id": "a41547c6-80bc-4b5c-8313-bc3cc8af7943",
   "metadata": {},
   "source": [
    "## Import relevant libraries"
   ]
  },
  {
   "cell_type": "code",
   "execution_count": 1,
   "id": "5d546b77-347e-479d-b03a-45514579aafb",
   "metadata": {},
   "outputs": [],
   "source": [
    "import numpy as np\n",
    "import pandas as pd\n",
    "import matplotlib.pyplot as plt\n",
    "import seaborn as sns\n",
    "sns.set()\n",
    "\n",
    "# for creating sparse matrices\n",
    "import scipy.sparse as sparse\n",
    "from scipy.sparse import csr_matrix\n",
    "\n",
    "from sklearn.neighbors import NearestNeighbors\n",
    "#import surprise\n",
    "#from surprise import SVD"
   ]
  },
  {
   "cell_type": "markdown",
   "id": "ddd934f4-9e05-40f9-904e-7d8d6b12f157",
   "metadata": {},
   "source": [
    "## Importing the data"
   ]
  },
  {
   "cell_type": "code",
   "execution_count": 2,
   "id": "d58eb759-3afa-4fec-9e69-2c6d78a7fef6",
   "metadata": {},
   "outputs": [
    {
     "data": {
      "text/html": [
       "<div>\n",
       "<style scoped>\n",
       "    .dataframe tbody tr th:only-of-type {\n",
       "        vertical-align: middle;\n",
       "    }\n",
       "\n",
       "    .dataframe tbody tr th {\n",
       "        vertical-align: top;\n",
       "    }\n",
       "\n",
       "    .dataframe thead th {\n",
       "        text-align: right;\n",
       "    }\n",
       "</style>\n",
       "<table border=\"1\" class=\"dataframe\">\n",
       "  <thead>\n",
       "    <tr style=\"text-align: right;\">\n",
       "      <th></th>\n",
       "      <th>userId</th>\n",
       "      <th>movieId</th>\n",
       "      <th>rating</th>\n",
       "      <th>timestamp</th>\n",
       "    </tr>\n",
       "  </thead>\n",
       "  <tbody>\n",
       "    <tr>\n",
       "      <th>0</th>\n",
       "      <td>1</td>\n",
       "      <td>296</td>\n",
       "      <td>5.0</td>\n",
       "      <td>1147880044</td>\n",
       "    </tr>\n",
       "    <tr>\n",
       "      <th>1</th>\n",
       "      <td>1</td>\n",
       "      <td>306</td>\n",
       "      <td>3.5</td>\n",
       "      <td>1147868817</td>\n",
       "    </tr>\n",
       "    <tr>\n",
       "      <th>2</th>\n",
       "      <td>1</td>\n",
       "      <td>307</td>\n",
       "      <td>5.0</td>\n",
       "      <td>1147868828</td>\n",
       "    </tr>\n",
       "    <tr>\n",
       "      <th>3</th>\n",
       "      <td>1</td>\n",
       "      <td>665</td>\n",
       "      <td>5.0</td>\n",
       "      <td>1147878820</td>\n",
       "    </tr>\n",
       "    <tr>\n",
       "      <th>4</th>\n",
       "      <td>1</td>\n",
       "      <td>899</td>\n",
       "      <td>3.5</td>\n",
       "      <td>1147868510</td>\n",
       "    </tr>\n",
       "  </tbody>\n",
       "</table>\n",
       "</div>"
      ],
      "text/plain": [
       "   userId  movieId  rating   timestamp\n",
       "0       1      296     5.0  1147880044\n",
       "1       1      306     3.5  1147868817\n",
       "2       1      307     5.0  1147868828\n",
       "3       1      665     5.0  1147878820\n",
       "4       1      899     3.5  1147868510"
      ]
     },
     "execution_count": 2,
     "metadata": {},
     "output_type": "execute_result"
    }
   ],
   "source": [
    "ratings_orig = pd.read_csv(\"./ml-25m/ratings.csv\")\n",
    "ratings_df = ratings_orig.copy()\n",
    "ratings_df.head()"
   ]
  },
  {
   "cell_type": "code",
   "execution_count": 3,
   "id": "139645a4-62bf-4622-8843-fa4070431b6e",
   "metadata": {},
   "outputs": [
    {
     "data": {
      "text/html": [
       "<div>\n",
       "<style scoped>\n",
       "    .dataframe tbody tr th:only-of-type {\n",
       "        vertical-align: middle;\n",
       "    }\n",
       "\n",
       "    .dataframe tbody tr th {\n",
       "        vertical-align: top;\n",
       "    }\n",
       "\n",
       "    .dataframe thead th {\n",
       "        text-align: right;\n",
       "    }\n",
       "</style>\n",
       "<table border=\"1\" class=\"dataframe\">\n",
       "  <thead>\n",
       "    <tr style=\"text-align: right;\">\n",
       "      <th></th>\n",
       "      <th>movieId</th>\n",
       "      <th>title</th>\n",
       "      <th>genres</th>\n",
       "    </tr>\n",
       "  </thead>\n",
       "  <tbody>\n",
       "    <tr>\n",
       "      <th>0</th>\n",
       "      <td>1</td>\n",
       "      <td>Toy Story (1995)</td>\n",
       "      <td>Adventure|Animation|Children|Comedy|Fantasy</td>\n",
       "    </tr>\n",
       "    <tr>\n",
       "      <th>1</th>\n",
       "      <td>2</td>\n",
       "      <td>Jumanji (1995)</td>\n",
       "      <td>Adventure|Children|Fantasy</td>\n",
       "    </tr>\n",
       "    <tr>\n",
       "      <th>2</th>\n",
       "      <td>3</td>\n",
       "      <td>Grumpier Old Men (1995)</td>\n",
       "      <td>Comedy|Romance</td>\n",
       "    </tr>\n",
       "    <tr>\n",
       "      <th>3</th>\n",
       "      <td>4</td>\n",
       "      <td>Waiting to Exhale (1995)</td>\n",
       "      <td>Comedy|Drama|Romance</td>\n",
       "    </tr>\n",
       "    <tr>\n",
       "      <th>4</th>\n",
       "      <td>5</td>\n",
       "      <td>Father of the Bride Part II (1995)</td>\n",
       "      <td>Comedy</td>\n",
       "    </tr>\n",
       "  </tbody>\n",
       "</table>\n",
       "</div>"
      ],
      "text/plain": [
       "   movieId                               title  \\\n",
       "0        1                    Toy Story (1995)   \n",
       "1        2                      Jumanji (1995)   \n",
       "2        3             Grumpier Old Men (1995)   \n",
       "3        4            Waiting to Exhale (1995)   \n",
       "4        5  Father of the Bride Part II (1995)   \n",
       "\n",
       "                                        genres  \n",
       "0  Adventure|Animation|Children|Comedy|Fantasy  \n",
       "1                   Adventure|Children|Fantasy  \n",
       "2                               Comedy|Romance  \n",
       "3                         Comedy|Drama|Romance  \n",
       "4                                       Comedy  "
      ]
     },
     "execution_count": 3,
     "metadata": {},
     "output_type": "execute_result"
    }
   ],
   "source": [
    "movies_orig = pd.read_csv(\"./ml-25m/movies.csv\")\n",
    "movies_df = movies_orig.copy()\n",
    "movies_df.head()"
   ]
  },
  {
   "cell_type": "code",
   "execution_count": 4,
   "id": "ebfae1d0-25fa-4ef6-b8de-e96400c65705",
   "metadata": {},
   "outputs": [
    {
     "name": "stdout",
     "output_type": "stream",
     "text": [
      "Number of unique users: 162541\n",
      "Number of unique movies: 62423\n"
     ]
    }
   ],
   "source": [
    "print(f\"Number of unique users: {len(np.unique(ratings_df['userId']))}\")\n",
    "print(f\"Number of unique movies: {len(np.unique(movies_df['movieId']))}\")"
   ]
  },
  {
   "cell_type": "markdown",
   "id": "e39c45a9-cb25-490f-942b-37ba3d53afc0",
   "metadata": {},
   "source": [
    "## Exploratory Data Analysis"
   ]
  },
  {
   "cell_type": "code",
   "execution_count": 5,
   "id": "78f7f0d5-6285-481f-a38a-90b27bf2a4e4",
   "metadata": {},
   "outputs": [
    {
     "data": {
      "text/html": [
       "<div>\n",
       "<style scoped>\n",
       "    .dataframe tbody tr th:only-of-type {\n",
       "        vertical-align: middle;\n",
       "    }\n",
       "\n",
       "    .dataframe tbody tr th {\n",
       "        vertical-align: top;\n",
       "    }\n",
       "\n",
       "    .dataframe thead th {\n",
       "        text-align: right;\n",
       "    }\n",
       "</style>\n",
       "<table border=\"1\" class=\"dataframe\">\n",
       "  <thead>\n",
       "    <tr style=\"text-align: right;\">\n",
       "      <th></th>\n",
       "      <th>rating</th>\n",
       "      <th>count</th>\n",
       "    </tr>\n",
       "    <tr>\n",
       "      <th>movieId</th>\n",
       "      <th></th>\n",
       "      <th></th>\n",
       "    </tr>\n",
       "  </thead>\n",
       "  <tbody>\n",
       "    <tr>\n",
       "      <th>1</th>\n",
       "      <td>3.893708</td>\n",
       "      <td>57309</td>\n",
       "    </tr>\n",
       "    <tr>\n",
       "      <th>2</th>\n",
       "      <td>3.251527</td>\n",
       "      <td>24228</td>\n",
       "    </tr>\n",
       "    <tr>\n",
       "      <th>3</th>\n",
       "      <td>3.142028</td>\n",
       "      <td>11804</td>\n",
       "    </tr>\n",
       "    <tr>\n",
       "      <th>4</th>\n",
       "      <td>2.853547</td>\n",
       "      <td>2523</td>\n",
       "    </tr>\n",
       "    <tr>\n",
       "      <th>5</th>\n",
       "      <td>3.058434</td>\n",
       "      <td>11714</td>\n",
       "    </tr>\n",
       "  </tbody>\n",
       "</table>\n",
       "</div>"
      ],
      "text/plain": [
       "           rating  count\n",
       "movieId                 \n",
       "1        3.893708  57309\n",
       "2        3.251527  24228\n",
       "3        3.142028  11804\n",
       "4        2.853547   2523\n",
       "5        3.058434  11714"
      ]
     },
     "execution_count": 5,
     "metadata": {},
     "output_type": "execute_result"
    }
   ],
   "source": [
    "# Get the mean rating per movie and the number of ratings each movie has received\n",
    "df_rating_count = pd.DataFrame(ratings_df.groupby('movieId')['rating'].mean())\n",
    "df_rating_count['count'] = ratings_df.groupby('movieId').size()\n",
    "df_rating_count.head()"
   ]
  },
  {
   "cell_type": "code",
   "execution_count": 6,
   "id": "ee8616dd-0176-445f-9780-b2b655f3fda8",
   "metadata": {},
   "outputs": [
    {
     "data": {
      "image/png": "[encoded data removed]",
      "text/plain": [
       "<Figure size 900x600 with 1 Axes>"
      ]
     },
     "metadata": {},
     "output_type": "display_data"
    }
   ],
   "source": [
    "# Histogram of the number of reviews each movie has\n",
    "plt.figure(figsize=(9, 6))\n",
    "df_rating_count['count'].hist(bins=100)\n",
    "plt.xlabel('Number of Ratings', fontweight='bold')\n",
    "plt.ylabel('Counts', fontweight='bold')\n",
    "plt.show();"
   ]
  },
  {
   "cell_type": "markdown",
   "id": "58e90168-1a0a-450a-b51c-64a7cdf9133f",
   "metadata": {},
   "source": [
    "Many movies have been rated very few times, these will include noise in the model so it will be better if they are removed."
   ]
  },
  {
   "cell_type": "code",
   "execution_count": 7,
   "id": "a00a3774-8faf-426f-8974-048ced10ab0b",
   "metadata": {},
   "outputs": [
    {
     "data": {
      "image/png": "[encoded data removed]",
      "text/plain": [
       "<Figure size 900x600 with 1 Axes>"
      ]
     },
     "metadata": {},
     "output_type": "display_data"
    }
   ],
   "source": [
    "plt.figure(figsize=(9,6))\n",
    "df_rating_count['rating'].hist(bins=50)\n",
    "plt.xlabel('Movie Ratings', fontweight='bold')\n",
    "plt.ylabel('Counts', fontweight='bold')\n",
    "plt.show();"
   ]
  },
  {
   "cell_type": "markdown",
   "id": "0e973281-316b-472e-b0f4-27a1b75068d7",
   "metadata": {},
   "source": [
    "Here, we can see that majority of the movies are rated between 2.5 and 3.5, being 3 the most common rating. "
   ]
  },
  {
   "cell_type": "code",
   "execution_count": 8,
   "id": "c78c5eaf-c61d-4f7c-b99b-9fd7c58359e7",
   "metadata": {},
   "outputs": [
    {
     "data": {
      "text/html": [
       "<div>\n",
       "<style scoped>\n",
       "    .dataframe tbody tr th:only-of-type {\n",
       "        vertical-align: middle;\n",
       "    }\n",
       "\n",
       "    .dataframe tbody tr th {\n",
       "        vertical-align: top;\n",
       "    }\n",
       "\n",
       "    .dataframe thead th {\n",
       "        text-align: right;\n",
       "    }\n",
       "</style>\n",
       "<table border=\"1\" class=\"dataframe\">\n",
       "  <thead>\n",
       "    <tr style=\"text-align: right;\">\n",
       "      <th></th>\n",
       "      <th>count</th>\n",
       "    </tr>\n",
       "    <tr>\n",
       "      <th>userId</th>\n",
       "      <th></th>\n",
       "    </tr>\n",
       "  </thead>\n",
       "  <tbody>\n",
       "    <tr>\n",
       "      <th>1</th>\n",
       "      <td>70</td>\n",
       "    </tr>\n",
       "    <tr>\n",
       "      <th>2</th>\n",
       "      <td>184</td>\n",
       "    </tr>\n",
       "    <tr>\n",
       "      <th>3</th>\n",
       "      <td>656</td>\n",
       "    </tr>\n",
       "    <tr>\n",
       "      <th>4</th>\n",
       "      <td>242</td>\n",
       "    </tr>\n",
       "    <tr>\n",
       "      <th>5</th>\n",
       "      <td>101</td>\n",
       "    </tr>\n",
       "  </tbody>\n",
       "</table>\n",
       "</div>"
      ],
      "text/plain": [
       "        count\n",
       "userId       \n",
       "1          70\n",
       "2         184\n",
       "3         656\n",
       "4         242\n",
       "5         101"
      ]
     },
     "execution_count": 8,
     "metadata": {},
     "output_type": "execute_result"
    }
   ],
   "source": [
    "# Create a data frame with the number of ratings per user\n",
    "user_df = pd.DataFrame(ratings_df.groupby('userId').size(), columns=['count'])\n",
    "user_df.head()"
   ]
  },
  {
   "cell_type": "code",
   "execution_count": 9,
   "id": "11e35d23-9180-446b-a331-d209fb48d980",
   "metadata": {},
   "outputs": [
    {
     "data": {
      "image/png": "[encoded data removed]",
      "text/plain": [
       "<Figure size 900x600 with 1 Axes>"
      ]
     },
     "metadata": {},
     "output_type": "display_data"
    }
   ],
   "source": [
    "# Histogram of the number of reviews each movie has\n",
    "plt.figure(figsize=(9, 6))\n",
    "user_df['count'].hist(bins=100)\n",
    "plt.xlabel('Number of Ratings', fontweight='bold')\n",
    "plt.ylabel('Counts', fontweight='bold')\n",
    "plt.show();"
   ]
  },
  {
   "cell_type": "markdown",
   "id": "4a827191-2322-4a82-aa5a-8191e932adec",
   "metadata": {},
   "source": [
    "Again, we can see that many users have rated very little movies. We can remove those to get a better results. "
   ]
  },
  {
   "cell_type": "code",
   "execution_count": 10,
   "id": "5095397d-9e2e-4f3e-a185-68c3cb760f9d",
   "metadata": {},
   "outputs": [
    {
     "data": {
      "text/plain": [
       "<seaborn.axisgrid.JointGrid at 0x216aed68200>"
      ]
     },
     "execution_count": 10,
     "metadata": {},
     "output_type": "execute_result"
    },
    {
     "data": {
      "text/plain": [
       "<Figure size 800x1000 with 0 Axes>"
      ]
     },
     "metadata": {},
     "output_type": "display_data"
    },
    {
     "data": {
      "image/png": "[encoded data removed]",
      "text/plain": [
       "<Figure size 600x600 with 3 Axes>"
      ]
     },
     "metadata": {},
     "output_type": "display_data"
    }
   ],
   "source": [
    "plt.figure(figsize=(8,10))\n",
    "plt.rcParams['patch.force_edgecolor'] = True\n",
    "figure = sns.jointplot(x='rating', y='count', data=df_rating_count, kind=\"scatter\")\n",
    "plt.subplots_adjust(bottom=0.15, top=0.99, left=0.15)\n",
    "figure.set_axis_labels(\"Ratings\", \"Counts\", fontweight='bold')"
   ]
  },
  {
   "cell_type": "code",
   "execution_count": 11,
   "id": "4aaca6f0-03b6-4390-8851-11772878dbd6",
   "metadata": {},
   "outputs": [
    {
     "data": {
      "text/html": [
       "<div>\n",
       "<style scoped>\n",
       "    .dataframe tbody tr th:only-of-type {\n",
       "        vertical-align: middle;\n",
       "    }\n",
       "\n",
       "    .dataframe tbody tr th {\n",
       "        vertical-align: top;\n",
       "    }\n",
       "\n",
       "    .dataframe thead th {\n",
       "        text-align: right;\n",
       "    }\n",
       "</style>\n",
       "<table border=\"1\" class=\"dataframe\">\n",
       "  <thead>\n",
       "    <tr style=\"text-align: right;\">\n",
       "      <th></th>\n",
       "      <th>rating</th>\n",
       "      <th>count</th>\n",
       "    </tr>\n",
       "    <tr>\n",
       "      <th>movieId</th>\n",
       "      <th></th>\n",
       "      <th></th>\n",
       "    </tr>\n",
       "  </thead>\n",
       "  <tbody>\n",
       "    <tr>\n",
       "      <th>1</th>\n",
       "      <td>3.893708</td>\n",
       "      <td>57309</td>\n",
       "    </tr>\n",
       "    <tr>\n",
       "      <th>2</th>\n",
       "      <td>3.251527</td>\n",
       "      <td>24228</td>\n",
       "    </tr>\n",
       "    <tr>\n",
       "      <th>3</th>\n",
       "      <td>3.142028</td>\n",
       "      <td>11804</td>\n",
       "    </tr>\n",
       "    <tr>\n",
       "      <th>4</th>\n",
       "      <td>2.853547</td>\n",
       "      <td>2523</td>\n",
       "    </tr>\n",
       "    <tr>\n",
       "      <th>5</th>\n",
       "      <td>3.058434</td>\n",
       "      <td>11714</td>\n",
       "    </tr>\n",
       "  </tbody>\n",
       "</table>\n",
       "</div>"
      ],
      "text/plain": [
       "           rating  count\n",
       "movieId                 \n",
       "1        3.893708  57309\n",
       "2        3.251527  24228\n",
       "3        3.142028  11804\n",
       "4        2.853547   2523\n",
       "5        3.058434  11714"
      ]
     },
     "execution_count": 11,
     "metadata": {},
     "output_type": "execute_result"
    }
   ],
   "source": [
    "df_rating_count.head()"
   ]
  },
  {
   "cell_type": "code",
   "execution_count": 12,
   "id": "62ddb748-eac2-424d-b9d9-4a2d06d78d8d",
   "metadata": {},
   "outputs": [
    {
     "data": {
      "image/png": "[encoded data removed]",
      "text/plain": [
       "<Figure size 800x500 with 1 Axes>"
      ]
     },
     "metadata": {},
     "output_type": "display_data"
    }
   ],
   "source": [
    "# rating frequency of all movies\n",
    "ax = df_rating_count[['count']] \\\n",
    "    .sort_values('count', ascending=False) \\\n",
    "    .reset_index(drop=True) \\\n",
    "    .plot(figsize=(8, 5), fontsize=14)\n",
    "ax.set_xlabel(\"Movies\", fontweight='bold')\n",
    "ax.set_ylabel(\"Number of ratings\", fontweight='bold')\n",
    "plt.show();"
   ]
  },
  {
   "cell_type": "code",
   "execution_count": 13,
   "id": "7d1de66c-b869-49d5-aa46-f32c49dba582",
   "metadata": {},
   "outputs": [
    {
     "data": {
      "image/png": "[encoded data removed]",
      "text/plain": [
       "<Figure size 800x500 with 1 Axes>"
      ]
     },
     "metadata": {},
     "output_type": "display_data"
    }
   ],
   "source": [
    "# plot rating frequency of all movies in log scale\n",
    "ax = df_rating_count[['count']] \\\n",
    "    .sort_values('count', ascending=False) \\\n",
    "    .reset_index(drop=True) \\\n",
    "    .plot(figsize=(8, 5), fontsize=12, logy=True)\n",
    "ax.set_xlabel(\"Movies\", fontweight='bold')\n",
    "ax.set_ylabel(\"Number of ratings (log scale)\", fontweight='bold')\n",
    "plt.show();"
   ]
  },
  {
   "cell_type": "code",
   "execution_count": 14,
   "id": "641f2b56-32b8-4b34-a7ac-3d6cc7b89eb9",
   "metadata": {},
   "outputs": [
    {
     "data": {
      "image/png": "[encoded data removed]",
      "text/plain": [
       "<Figure size 800x500 with 1 Axes>"
      ]
     },
     "metadata": {},
     "output_type": "display_data"
    }
   ],
   "source": [
    "# plot rating frequency of all movies\n",
    "ax = df_rating_count[['count']] \\\n",
    "    .sort_values('count', ascending=False) \\\n",
    "    .reset_index(drop=True) \\\n",
    "    .plot(figsize=(8, 5), fontsize=14)\n",
    "ax.set_xlabel(\"Users\", fontweight='bold')\n",
    "ax.set_ylabel(\"Number of ratings\", fontweight='bold')\n",
    "plt.show();"
   ]
  },
  {
   "cell_type": "markdown",
   "id": "c1693b22-6042-42ad-b83c-375c71ef8f13",
   "metadata": {},
   "source": [
    "## Data preprocessing"
   ]
  },
  {
   "cell_type": "markdown",
   "id": "45a7f1fe-6e89-4f4e-bc1f-86f04e456f3e",
   "metadata": {},
   "source": [
    "Remove films that don't have at least 50 ratings:"
   ]
  },
  {
   "cell_type": "code",
   "execution_count": 15,
   "id": "b756e400-be3a-48c6-a9a9-22737f45452f",
   "metadata": {},
   "outputs": [],
   "source": [
    "# Select movies with at least 50 ratings\n",
    "N = 50\n",
    "popular_movies = list(df_rating_count.query('count >= @N').index)\n",
    "ratings_df = ratings_df[ratings_df.movieId.isin(popular_movies)]"
   ]
  },
  {
   "cell_type": "markdown",
   "id": "815d3208-fa17-45fe-86da-892ecaf419f9",
   "metadata": {},
   "source": [
    "Same way, I'll be removing those users considered as inactive (or not very active), with less than 50 ratings."
   ]
  },
  {
   "cell_type": "code",
   "execution_count": 16,
   "id": "bccdc27d-4cf1-4aa1-ba26-664e880893ae",
   "metadata": {},
   "outputs": [],
   "source": [
    "active_users = list(user_df.query('count >= @N').index)\n",
    "ratings_df = ratings_df[ratings_df.userId.isin(active_users)]"
   ]
  },
  {
   "cell_type": "code",
   "execution_count": 17,
   "id": "bcf1cf8f-ed68-4913-adbe-ce1f7aee853a",
   "metadata": {},
   "outputs": [
    {
     "data": {
      "text/html": [
       "<div>\n",
       "<style scoped>\n",
       "    .dataframe tbody tr th:only-of-type {\n",
       "        vertical-align: middle;\n",
       "    }\n",
       "\n",
       "    .dataframe tbody tr th {\n",
       "        vertical-align: top;\n",
       "    }\n",
       "\n",
       "    .dataframe thead th {\n",
       "        text-align: right;\n",
       "    }\n",
       "</style>\n",
       "<table border=\"1\" class=\"dataframe\">\n",
       "  <thead>\n",
       "    <tr style=\"text-align: right;\">\n",
       "      <th></th>\n",
       "      <th>userId</th>\n",
       "      <th>movieId</th>\n",
       "      <th>rating</th>\n",
       "      <th>timestamp</th>\n",
       "      <th>title</th>\n",
       "    </tr>\n",
       "  </thead>\n",
       "  <tbody>\n",
       "    <tr>\n",
       "      <th>0</th>\n",
       "      <td>1</td>\n",
       "      <td>296</td>\n",
       "      <td>5.0</td>\n",
       "      <td>1147880044</td>\n",
       "      <td>Pulp Fiction (1994)</td>\n",
       "    </tr>\n",
       "    <tr>\n",
       "      <th>1</th>\n",
       "      <td>1</td>\n",
       "      <td>306</td>\n",
       "      <td>3.5</td>\n",
       "      <td>1147868817</td>\n",
       "      <td>Three Colors: Red (Trois couleurs: Rouge) (1994)</td>\n",
       "    </tr>\n",
       "    <tr>\n",
       "      <th>2</th>\n",
       "      <td>1</td>\n",
       "      <td>307</td>\n",
       "      <td>5.0</td>\n",
       "      <td>1147868828</td>\n",
       "      <td>Three Colors: Blue (Trois couleurs: Bleu) (1993)</td>\n",
       "    </tr>\n",
       "    <tr>\n",
       "      <th>3</th>\n",
       "      <td>1</td>\n",
       "      <td>665</td>\n",
       "      <td>5.0</td>\n",
       "      <td>1147878820</td>\n",
       "      <td>Underground (1995)</td>\n",
       "    </tr>\n",
       "    <tr>\n",
       "      <th>4</th>\n",
       "      <td>1</td>\n",
       "      <td>899</td>\n",
       "      <td>3.5</td>\n",
       "      <td>1147868510</td>\n",
       "      <td>Singin' in the Rain (1952)</td>\n",
       "    </tr>\n",
       "  </tbody>\n",
       "</table>\n",
       "</div>"
      ],
      "text/plain": [
       "   userId  movieId  rating   timestamp  \\\n",
       "0       1      296     5.0  1147880044   \n",
       "1       1      306     3.5  1147868817   \n",
       "2       1      307     5.0  1147868828   \n",
       "3       1      665     5.0  1147878820   \n",
       "4       1      899     3.5  1147868510   \n",
       "\n",
       "                                              title  \n",
       "0                               Pulp Fiction (1994)  \n",
       "1  Three Colors: Red (Trois couleurs: Rouge) (1994)  \n",
       "2  Three Colors: Blue (Trois couleurs: Bleu) (1993)  \n",
       "3                                Underground (1995)  \n",
       "4                        Singin' in the Rain (1952)  "
      ]
     },
     "execution_count": 17,
     "metadata": {},
     "output_type": "execute_result"
    }
   ],
   "source": [
    "combined_data = pd.merge(ratings_df, movies_df, on='movieId')\n",
    "combined_data = combined_data.drop(['genres'], axis=1)\n",
    "combined_data.head()"
   ]
  },
  {
   "cell_type": "code",
   "execution_count": 18,
   "id": "442b8ac2-aa51-41f1-9f5b-2ff544126171",
   "metadata": {},
   "outputs": [
    {
     "name": "stdout",
     "output_type": "stream",
     "text": [
      "Number of unique users: 102492\n",
      "Number of unique movies: 13176\n"
     ]
    }
   ],
   "source": [
    "n_users = len(np.unique(combined_data['userId']))\n",
    "n_items = len(np.unique(combined_data['movieId']))\n",
    "\n",
    "print(f\"Number of unique users: {n_users}\")\n",
    "print(f\"Number of unique movies: {n_items}\")"
   ]
  },
  {
   "cell_type": "markdown",
   "id": "5bfc1be0-b9e1-4b39-875b-d1490b3cf6c9",
   "metadata": {},
   "source": [
    "## Split into train and test"
   ]
  },
  {
   "cell_type": "code",
   "execution_count": 19,
   "id": "cd514fff-dbe5-48f7-9c9a-f1dc1cc9d154",
   "metadata": {},
   "outputs": [],
   "source": [
    "# Extract unique user and movie IDs\n",
    "user_ids = sorted(set(combined_data.iloc[:, 0]))\n",
    "movie_ids = sorted(set(combined_data.iloc[:, 1]))"
   ]
  },
  {
   "cell_type": "code",
   "execution_count": null,
   "id": "56ddbbb6-d9fd-4731-b1d1-4a7ed12804e8",
   "metadata": {},
   "outputs": [],
   "source": [
    "test_size = 0.25\n",
    "test = []\n",
    "\n",
    "for user in user_ids:\n",
    "    # get this user rating data\n",
    "    user_rating = combined_data[combined_data['userId'] == user]\n",
    "    # sort the user_rating data based on the timestamp\n",
    "    user_rating = user_rating.sort_values(['timestamp'], ascending=True)\n",
    "    # calculate the test size\n",
    "    testing_samples = int(user_rating.shape[0] * test_size)\n",
    "    # select the last records of this user as test samples\n",
    "    indext = np.array(user_rating[-testing_samples:].index)\n",
    "    test.extend(indext)"
   ]
  },
  {
   "cell_type": "code",
   "execution_count": null,
   "id": "ae1310b6-2e48-4445-91dc-7551d20d230a",
   "metadata": {},
   "outputs": [],
   "source": [
    "test_df = combined_data[['userId', 'movieId', 'rating']].loc[test]\n",
    "train_df = combined_data[['userId', 'movieId', 'rating']].drop(test)"
   ]
  },
  {
   "cell_type": "code",
   "execution_count": null,
   "id": "435c0ae5-2731-47b5-ad37-60fa3553cea1",
   "metadata": {},
   "outputs": [],
   "source": [
    "print(f\"Original data shape: {combined_data.shape}\")\n",
    "print(f\"test set shape: {test_df.shape}\")\n",
    "print(f\"train set shape: {train_df.shape}\")\n",
    "print(test_df.shape[0] + train_df.shape[0])"
   ]
  },
  {
   "cell_type": "code",
   "execution_count": 22,
   "id": "8b2f8c46-b9bb-459b-b9a4-a44946ef6ee7",
   "metadata": {},
   "outputs": [
    {
     "name": "stdout",
     "output_type": "stream",
     "text": [
      "Unique users in the test data set: 102492\n",
      "Unique movies in the test data set: 13176\n",
      "Unique users in the train data set: 102492\n",
      "Unique movies in the train data set: 13175\n"
     ]
    }
   ],
   "source": [
    "print(f\"Unique users in the test data set: {len(np.unique(test_df['userId']))}\")\n",
    "print(f\"Unique movies in the test data set: {len(np.unique(test_df['movieId']))}\")\n",
    "\n",
    "print(f\"Unique users in the train data set: {len(np.unique(train_df['userId']))}\")\n",
    "print(f\"Unique movies in the train data set: {len(np.unique(train_df['movieId']))}\")"
   ]
  },
  {
   "cell_type": "markdown",
   "id": "c0168526-d9cb-4bd2-94f3-6cc762bc0c8c",
   "metadata": {},
   "source": [
    "The test data seems to have a movie that does not appear in the training data, since the ratings have been ordered by date, this would probably imply that the movie was released recently.\n",
    "\n",
    "We have different options here:\n",
    "* Drop the movie from the test set. If there are not many reviews and it doesn't mean losing too much information.\n",
    "* Split the data following the same format (75% for training, 25% for testing). If we want to keep the movie, even though it may not add much because there are not a lot of rows."
   ]
  },
  {
   "cell_type": "code",
   "execution_count": 24,
   "id": "ee71b0a8-dacb-43d1-8b67-53e770ef1000",
   "metadata": {},
   "outputs": [
    {
     "name": "stdout",
     "output_type": "stream",
     "text": [
      "Missing movieId: {207830}\n"
     ]
    }
   ],
   "source": [
    "movieIds_in_training = set(train_df['movieId'])\n",
    "movie_ids = set(combined_data.iloc[:, 1])\n",
    "\n",
    "print(f\"Missing movieId: {movie_ids - movieIds_in_training}\")"
   ]
  },
  {
   "cell_type": "code",
   "execution_count": 25,
   "id": "e825047a-84b4-46c9-bee0-a7c68d2df61f",
   "metadata": {},
   "outputs": [
    {
     "data": {
      "text/plain": [
       "(54, 5)"
      ]
     },
     "execution_count": 25,
     "metadata": {},
     "output_type": "execute_result"
    }
   ],
   "source": [
    "combined_data[combined_data['movieId'] == 207830].shape"
   ]
  },
  {
   "cell_type": "markdown",
   "id": "d7afe593-283a-4913-8b46-6f0fb8a286da",
   "metadata": {},
   "source": [
    "We only have 54 reviews for this movie. Even though it could be safe dropping it, I will opt for transfering 75% of those records to the train set."
   ]
  },
  {
   "cell_type": "code",
   "execution_count": 26,
   "id": "4a6f75a3-f34d-483b-b1b1-b492734838f4",
   "metadata": {},
   "outputs": [],
   "source": [
    "movie = test_df[test_df['movieId'] == 207830]"
   ]
  },
  {
   "cell_type": "code",
   "execution_count": 27,
   "id": "4f32d34f-dbd8-455c-b2c3-d93903ece6c3",
   "metadata": {},
   "outputs": [
    {
     "data": {
      "text/html": [
       "<div>\n",
       "<style scoped>\n",
       "    .dataframe tbody tr th:only-of-type {\n",
       "        vertical-align: middle;\n",
       "    }\n",
       "\n",
       "    .dataframe tbody tr th {\n",
       "        vertical-align: top;\n",
       "    }\n",
       "\n",
       "    .dataframe thead th {\n",
       "        text-align: right;\n",
       "    }\n",
       "</style>\n",
       "<table border=\"1\" class=\"dataframe\">\n",
       "  <thead>\n",
       "    <tr style=\"text-align: right;\">\n",
       "      <th></th>\n",
       "      <th>userId</th>\n",
       "      <th>movieId</th>\n",
       "      <th>rating</th>\n",
       "    </tr>\n",
       "  </thead>\n",
       "  <tbody>\n",
       "    <tr>\n",
       "      <th>22723088</th>\n",
       "      <td>4515</td>\n",
       "      <td>207830</td>\n",
       "      <td>4.0</td>\n",
       "    </tr>\n",
       "    <tr>\n",
       "      <th>22723089</th>\n",
       "      <td>5264</td>\n",
       "      <td>207830</td>\n",
       "      <td>3.0</td>\n",
       "    </tr>\n",
       "    <tr>\n",
       "      <th>22723090</th>\n",
       "      <td>9852</td>\n",
       "      <td>207830</td>\n",
       "      <td>3.5</td>\n",
       "    </tr>\n",
       "    <tr>\n",
       "      <th>22723091</th>\n",
       "      <td>10919</td>\n",
       "      <td>207830</td>\n",
       "      <td>0.5</td>\n",
       "    </tr>\n",
       "    <tr>\n",
       "      <th>22723092</th>\n",
       "      <td>11539</td>\n",
       "      <td>207830</td>\n",
       "      <td>4.0</td>\n",
       "    </tr>\n",
       "  </tbody>\n",
       "</table>\n",
       "</div>"
      ],
      "text/plain": [
       "          userId  movieId  rating\n",
       "22723088    4515   207830     4.0\n",
       "22723089    5264   207830     3.0\n",
       "22723090    9852   207830     3.5\n",
       "22723091   10919   207830     0.5\n",
       "22723092   11539   207830     4.0"
      ]
     },
     "execution_count": 27,
     "metadata": {},
     "output_type": "execute_result"
    }
   ],
   "source": [
    "movie.head()"
   ]
  },
  {
   "cell_type": "code",
   "execution_count": 28,
   "id": "3b2229d4-792b-4dfb-b605-860522967e99",
   "metadata": {},
   "outputs": [
    {
     "data": {
      "text/html": [
       "<div>\n",
       "<style scoped>\n",
       "    .dataframe tbody tr th:only-of-type {\n",
       "        vertical-align: middle;\n",
       "    }\n",
       "\n",
       "    .dataframe tbody tr th {\n",
       "        vertical-align: top;\n",
       "    }\n",
       "\n",
       "    .dataframe thead th {\n",
       "        text-align: right;\n",
       "    }\n",
       "</style>\n",
       "<table border=\"1\" class=\"dataframe\">\n",
       "  <thead>\n",
       "    <tr style=\"text-align: right;\">\n",
       "      <th></th>\n",
       "      <th>userId</th>\n",
       "      <th>movieId</th>\n",
       "      <th>rating</th>\n",
       "    </tr>\n",
       "  </thead>\n",
       "  <tbody>\n",
       "    <tr>\n",
       "      <th>22723096</th>\n",
       "      <td>22349</td>\n",
       "      <td>207830</td>\n",
       "      <td>2.5</td>\n",
       "    </tr>\n",
       "    <tr>\n",
       "      <th>22723127</th>\n",
       "      <td>97074</td>\n",
       "      <td>207830</td>\n",
       "      <td>2.5</td>\n",
       "    </tr>\n",
       "    <tr>\n",
       "      <th>22723106</th>\n",
       "      <td>44621</td>\n",
       "      <td>207830</td>\n",
       "      <td>3.5</td>\n",
       "    </tr>\n",
       "    <tr>\n",
       "      <th>22723123</th>\n",
       "      <td>91400</td>\n",
       "      <td>207830</td>\n",
       "      <td>4.0</td>\n",
       "    </tr>\n",
       "    <tr>\n",
       "      <th>22723111</th>\n",
       "      <td>57775</td>\n",
       "      <td>207830</td>\n",
       "      <td>5.0</td>\n",
       "    </tr>\n",
       "  </tbody>\n",
       "</table>\n",
       "</div>"
      ],
      "text/plain": [
       "          userId  movieId  rating\n",
       "22723096   22349   207830     2.5\n",
       "22723127   97074   207830     2.5\n",
       "22723106   44621   207830     3.5\n",
       "22723123   91400   207830     4.0\n",
       "22723111   57775   207830     5.0"
      ]
     },
     "execution_count": 28,
     "metadata": {},
     "output_type": "execute_result"
    }
   ],
   "source": [
    "shuffled_movie = movie.sample(frac=1)\n",
    "shuffled_movie.head()"
   ]
  },
  {
   "cell_type": "code",
   "execution_count": 31,
   "id": "168b61a8-5910-498e-8ccb-fe33fe43e20b",
   "metadata": {},
   "outputs": [],
   "source": [
    "n_movies_for_training = int(shuffled_movie.shape[0] * 0.75)\n",
    "movies_for_training = shuffled_movie[:n_movies_for_training]\n",
    "remove_indexes = movies_for_training.index"
   ]
  },
  {
   "cell_type": "code",
   "execution_count": 33,
   "id": "b68daa82-8712-4e6b-81fc-4d04c7d21202",
   "metadata": {},
   "outputs": [
    {
     "name": "stdout",
     "output_type": "stream",
     "text": [
      "Shape of the test df before dropping the rows: (5651421, 3)\n",
      "Shape of the test df after dropping the rows: (5651381, 3)\n"
     ]
    }
   ],
   "source": [
    "print(f\"Shape of the test df before dropping the rows: {test_df.shape}\")\n",
    "test_df = test_df.drop(remove_indexes)\n",
    "print(f\"Shape of the test df after dropping the rows: {test_df.shape}\")"
   ]
  },
  {
   "cell_type": "code",
   "execution_count": 35,
   "id": "f5f6b238-34b2-4c84-bcca-e9e46a3293aa",
   "metadata": {},
   "outputs": [
    {
     "name": "stdout",
     "output_type": "stream",
     "text": [
      "Shape of the train df before adding the rows: (17107802, 3)\n",
      "Shape of the train df after adding the rows: (17107842, 3)\n"
     ]
    }
   ],
   "source": [
    "print(f\"Shape of the train df before adding the rows: {train_df.shape}\")\n",
    "train_df = pd.concat([train_df, movies_for_training], ignore_index=True)\n",
    "print(f\"Shape of the train df after adding the rows: {train_df.shape}\")"
   ]
  },
  {
   "cell_type": "markdown",
   "id": "13198655-8ae3-4a50-9ba6-a1d31755496f",
   "metadata": {},
   "source": [
    "At this point we have the same number of items and users in both datasets"
   ]
  },
  {
   "cell_type": "code",
   "execution_count": 36,
   "id": "15d980cf-9f6b-465a-b51a-89264546505f",
   "metadata": {},
   "outputs": [],
   "source": [
    "test_df.to_csv('./ml-25m/test_data.csv', index=False)\n",
    "train_df.to_csv('./ml-25m/train_data.csv', index=False)"
   ]
  },
  {
   "cell_type": "code",
   "execution_count": 19,
   "id": "8eeaefc6-17a6-4347-9837-af91ab498029",
   "metadata": {},
   "outputs": [],
   "source": [
    "test_df = pd.read_csv('./ml-25m/test_data.csv')\n",
    "train_df = pd.read_csv('./ml-25m/train_data.csv')"
   ]
  },
  {
   "cell_type": "markdown",
   "id": "42d45e75-50da-42c5-83c9-8b41ee6fcf76",
   "metadata": {},
   "source": [
    "## Create the sparse matrix for training and testing"
   ]
  },
  {
   "cell_type": "code",
   "execution_count": 20,
   "id": "fa56ab1d-d661-465c-8934-1fce47a20092",
   "metadata": {},
   "outputs": [],
   "source": [
    "def create_sparse_matrix(data):\n",
    "    # Extract unique user and movie IDs\n",
    "    user_ids = sorted(set(data.iloc[:, 0]))\n",
    "    movie_ids = sorted(set(data.iloc[:, 1]))\n",
    "    \n",
    "    # Create a dictionary to map user and movie IDs to their new indices\n",
    "    # the key in those dictionaries is the original id of the user/movie while \n",
    "    # their value is the index that will be used to build the sparse matrix\n",
    "    user_to_index = {user_id: i for i, user_id in enumerate(user_ids)}\n",
    "    movie_to_index = {movie_id: i for i, movie_id in enumerate(movie_ids)}\n",
    "    \n",
    "    # To build the sparse matrix, each movie will be a row (m), whereas \n",
    "    # each user will represent a column (u), giving a matrix of shape m x u\n",
    "    rows = [movie_to_index[m] for m in data['movieId'].values.tolist()]\n",
    "    cols = [user_to_index[u] for u in data['userId'].values.tolist()]\n",
    "    values = data['rating'].values.tolist()\n",
    "        \n",
    "    sparse_matrix = csr_matrix((values, (rows, cols)), shape=(n_items, n_users))\n",
    "\n",
    "    return(sparse_matrix, movie_to_index)"
   ]
  },
  {
   "cell_type": "code",
   "execution_count": 21,
   "id": "4ea73f71-1783-44ec-94f6-96566cb63f94",
   "metadata": {},
   "outputs": [],
   "source": [
    "sparse_train, movie_mapper_train = create_sparse_matrix(train_df)\n",
    "sparse_test, movie_mapper_test = create_sparse_matrix(test_df)"
   ]
  },
  {
   "cell_type": "markdown",
   "id": "b71a9b7c-a3f0-4746-ba15-533b2e044456",
   "metadata": {},
   "source": [
    "## Creating the model to recommend movies\n",
    "\n",
    "First, I'll create the model based on k-Nearest Neightbors algorithm"
   ]
  },
  {
   "cell_type": "code",
   "execution_count": 22,
   "id": "ccc88f56-5de8-40eb-a3d2-5f4ffcf9ff23",
   "metadata": {},
   "outputs": [
    {
     "data": {
      "text/html": [
       "<style>#sk-container-id-1 {\n",
       "  /* Definition of color scheme common for light and dark mode */\n",
       "  --sklearn-color-text: black;\n",
       "  --sklearn-color-line: gray;\n",
       "  /* Definition of color scheme for unfitted estimators */\n",
       "  --sklearn-color-unfitted-level-0: #fff5e6;\n",
       "  --sklearn-color-unfitted-level-1: #f6e4d2;\n",
       "  --sklearn-color-unfitted-level-2: #ffe0b3;\n",
       "  --sklearn-color-unfitted-level-3: chocolate;\n",
       "  /* Definition of color scheme for fitted estimators */\n",
       "  --sklearn-color-fitted-level-0: #f0f8ff;\n",
       "  --sklearn-color-fitted-level-1: #d4ebff;\n",
       "  --sklearn-color-fitted-level-2: #b3dbfd;\n",
       "  --sklearn-color-fitted-level-3: cornflowerblue;\n",
       "\n",
       "  /* Specific color for light theme */\n",
       "  --sklearn-color-text-on-default-background: var(--sg-text-color, var(--theme-code-foreground, var(--jp-content-font-color1, black)));\n",
       "  --sklearn-color-background: var(--sg-background-color, var(--theme-background, var(--jp-layout-color0, white)));\n",
       "  --sklearn-color-border-box: var(--sg-text-color, var(--theme-code-foreground, var(--jp-content-font-color1, black)));\n",
       "  --sklearn-color-icon: #696969;\n",
       "\n",
       "  @media (prefers-color-scheme: dark) {\n",
       "    /* Redefinition of color scheme for dark theme */\n",
       "    --sklearn-color-text-on-default-background: var(--sg-text-color, var(--theme-code-foreground, var(--jp-content-font-color1, white)));\n",
       "    --sklearn-color-background: var(--sg-background-color, var(--theme-background, var(--jp-layout-color0, #111)));\n",
       "    --sklearn-color-border-box: var(--sg-text-color, var(--theme-code-foreground, var(--jp-content-font-color1, white)));\n",
       "    --sklearn-color-icon: #878787;\n",
       "  }\n",
       "}\n",
       "\n",
       "#sk-container-id-1 {\n",
       "  color: var(--sklearn-color-text);\n",
       "}\n",
       "\n",
       "#sk-container-id-1 pre {\n",
       "  padding: 0;\n",
       "}\n",
       "\n",
       "#sk-container-id-1 input.sk-hidden--visually {\n",
       "  border: 0;\n",
       "  clip: rect(1px 1px 1px 1px);\n",
       "  clip: rect(1px, 1px, 1px, 1px);\n",
       "  height: 1px;\n",
       "  margin: -1px;\n",
       "  overflow: hidden;\n",
       "  padding: 0;\n",
       "  position: absolute;\n",
       "  width: 1px;\n",
       "}\n",
       "\n",
       "#sk-container-id-1 div.sk-dashed-wrapped {\n",
       "  border: 1px dashed var(--sklearn-color-line);\n",
       "  margin: 0 0.4em 0.5em 0.4em;\n",
       "  box-sizing: border-box;\n",
       "  padding-bottom: 0.4em;\n",
       "  background-color: var(--sklearn-color-background);\n",
       "}\n",
       "\n",
       "#sk-container-id-1 div.sk-container {\n",
       "  /* jupyter's `normalize.less` sets `[hidden] { display: none; }`\n",
       "     but bootstrap.min.css set `[hidden] { display: none !important; }`\n",
       "     so we also need the `!important` here to be able to override the\n",
       "     default hidden behavior on the sphinx rendered scikit-learn.org.\n",
       "     See: https://github.com/scikit-learn/scikit-learn/issues/21755 */\n",
       "  display: inline-block !important;\n",
       "  position: relative;\n",
       "}\n",
       "\n",
       "#sk-container-id-1 div.sk-text-repr-fallback {\n",
       "  display: none;\n",
       "}\n",
       "\n",
       "div.sk-parallel-item,\n",
       "div.sk-serial,\n",
       "div.sk-item {\n",
       "  /* draw centered vertical line to link estimators */\n",
       "  background-image: linear-gradient(var(--sklearn-color-text-on-default-background), var(--sklearn-color-text-on-default-background));\n",
       "  background-size: 2px 100%;\n",
       "  background-repeat: no-repeat;\n",
       "  background-position: center center;\n",
       "}\n",
       "\n",
       "/* Parallel-specific style estimator block */\n",
       "\n",
       "#sk-container-id-1 div.sk-parallel-item::after {\n",
       "  content: \"\";\n",
       "  width: 100%;\n",
       "  border-bottom: 2px solid var(--sklearn-color-text-on-default-background);\n",
       "  flex-grow: 1;\n",
       "}\n",
       "\n",
       "#sk-container-id-1 div.sk-parallel {\n",
       "  display: flex;\n",
       "  align-items: stretch;\n",
       "  justify-content: center;\n",
       "  background-color: var(--sklearn-color-background);\n",
       "  position: relative;\n",
       "}\n",
       "\n",
       "#sk-container-id-1 div.sk-parallel-item {\n",
       "  display: flex;\n",
       "  flex-direction: column;\n",
       "}\n",
       "\n",
       "#sk-container-id-1 div.sk-parallel-item:first-child::after {\n",
       "  align-self: flex-end;\n",
       "  width: 50%;\n",
       "}\n",
       "\n",
       "#sk-container-id-1 div.sk-parallel-item:last-child::after {\n",
       "  align-self: flex-start;\n",
       "  width: 50%;\n",
       "}\n",
       "\n",
       "#sk-container-id-1 div.sk-parallel-item:only-child::after {\n",
       "  width: 0;\n",
       "}\n",
       "\n",
       "/* Serial-specific style estimator block */\n",
       "\n",
       "#sk-container-id-1 div.sk-serial {\n",
       "  display: flex;\n",
       "  flex-direction: column;\n",
       "  align-items: center;\n",
       "  background-color: var(--sklearn-color-background);\n",
       "  padding-right: 1em;\n",
       "  padding-left: 1em;\n",
       "}\n",
       "\n",
       "\n",
       "/* Toggleable style: style used for estimator/Pipeline/ColumnTransformer box that is\n",
       "clickable and can be expanded/collapsed.\n",
       "- Pipeline and ColumnTransformer use this feature and define the default style\n",
       "- Estimators will overwrite some part of the style using the `sk-estimator` class\n",
       "*/\n",
       "\n",
       "/* Pipeline and ColumnTransformer style (default) */\n",
       "\n",
       "#sk-container-id-1 div.sk-toggleable {\n",
       "  /* Default theme specific background. It is overwritten whether we have a\n",
       "  specific estimator or a Pipeline/ColumnTransformer */\n",
       "  background-color: var(--sklearn-color-background);\n",
       "}\n",
       "\n",
       "/* Toggleable label */\n",
       "#sk-container-id-1 label.sk-toggleable__label {\n",
       "  cursor: pointer;\n",
       "  display: block;\n",
       "  width: 100%;\n",
       "  margin-bottom: 0;\n",
       "  padding: 0.5em;\n",
       "  box-sizing: border-box;\n",
       "  text-align: center;\n",
       "}\n",
       "\n",
       "#sk-container-id-1 label.sk-toggleable__label-arrow:before {\n",
       "  /* Arrow on the left of the label */\n",
       "  content: \"▸\";\n",
       "  float: left;\n",
       "  margin-right: 0.25em;\n",
       "  color: var(--sklearn-color-icon);\n",
       "}\n",
       "\n",
       "#sk-container-id-1 label.sk-toggleable__label-arrow:hover:before {\n",
       "  color: var(--sklearn-color-text);\n",
       "}\n",
       "\n",
       "/* Toggleable content - dropdown */\n",
       "\n",
       "#sk-container-id-1 div.sk-toggleable__content {\n",
       "  max-height: 0;\n",
       "  max-width: 0;\n",
       "  overflow: hidden;\n",
       "  text-align: left;\n",
       "  /* unfitted */\n",
       "  background-color: var(--sklearn-color-unfitted-level-0);\n",
       "}\n",
       "\n",
       "#sk-container-id-1 div.sk-toggleable__content.fitted {\n",
       "  /* fitted */\n",
       "  background-color: var(--sklearn-color-fitted-level-0);\n",
       "}\n",
       "\n",
       "#sk-container-id-1 div.sk-toggleable__content pre {\n",
       "  margin: 0.2em;\n",
       "  border-radius: 0.25em;\n",
       "  color: var(--sklearn-color-text);\n",
       "  /* unfitted */\n",
       "  background-color: var(--sklearn-color-unfitted-level-0);\n",
       "}\n",
       "\n",
       "#sk-container-id-1 div.sk-toggleable__content.fitted pre {\n",
       "  /* unfitted */\n",
       "  background-color: var(--sklearn-color-fitted-level-0);\n",
       "}\n",
       "\n",
       "#sk-container-id-1 input.sk-toggleable__control:checked~div.sk-toggleable__content {\n",
       "  /* Expand drop-down */\n",
       "  max-height: 200px;\n",
       "  max-width: 100%;\n",
       "  overflow: auto;\n",
       "}\n",
       "\n",
       "#sk-container-id-1 input.sk-toggleable__control:checked~label.sk-toggleable__label-arrow:before {\n",
       "  content: \"▾\";\n",
       "}\n",
       "\n",
       "/* Pipeline/ColumnTransformer-specific style */\n",
       "\n",
       "#sk-container-id-1 div.sk-label input.sk-toggleable__control:checked~label.sk-toggleable__label {\n",
       "  color: var(--sklearn-color-text);\n",
       "  background-color: var(--sklearn-color-unfitted-level-2);\n",
       "}\n",
       "\n",
       "#sk-container-id-1 div.sk-label.fitted input.sk-toggleable__control:checked~label.sk-toggleable__label {\n",
       "  background-color: var(--sklearn-color-fitted-level-2);\n",
       "}\n",
       "\n",
       "/* Estimator-specific style */\n",
       "\n",
       "/* Colorize estimator box */\n",
       "#sk-container-id-1 div.sk-estimator input.sk-toggleable__control:checked~label.sk-toggleable__label {\n",
       "  /* unfitted */\n",
       "  background-color: var(--sklearn-color-unfitted-level-2);\n",
       "}\n",
       "\n",
       "#sk-container-id-1 div.sk-estimator.fitted input.sk-toggleable__control:checked~label.sk-toggleable__label {\n",
       "  /* fitted */\n",
       "  background-color: var(--sklearn-color-fitted-level-2);\n",
       "}\n",
       "\n",
       "#sk-container-id-1 div.sk-label label.sk-toggleable__label,\n",
       "#sk-container-id-1 div.sk-label label {\n",
       "  /* The background is the default theme color */\n",
       "  color: var(--sklearn-color-text-on-default-background);\n",
       "}\n",
       "\n",
       "/* On hover, darken the color of the background */\n",
       "#sk-container-id-1 div.sk-label:hover label.sk-toggleable__label {\n",
       "  color: var(--sklearn-color-text);\n",
       "  background-color: var(--sklearn-color-unfitted-level-2);\n",
       "}\n",
       "\n",
       "/* Label box, darken color on hover, fitted */\n",
       "#sk-container-id-1 div.sk-label.fitted:hover label.sk-toggleable__label.fitted {\n",
       "  color: var(--sklearn-color-text);\n",
       "  background-color: var(--sklearn-color-fitted-level-2);\n",
       "}\n",
       "\n",
       "/* Estimator label */\n",
       "\n",
       "#sk-container-id-1 div.sk-label label {\n",
       "  font-family: monospace;\n",
       "  font-weight: bold;\n",
       "  display: inline-block;\n",
       "  line-height: 1.2em;\n",
       "}\n",
       "\n",
       "#sk-container-id-1 div.sk-label-container {\n",
       "  text-align: center;\n",
       "}\n",
       "\n",
       "/* Estimator-specific */\n",
       "#sk-container-id-1 div.sk-estimator {\n",
       "  font-family: monospace;\n",
       "  border: 1px dotted var(--sklearn-color-border-box);\n",
       "  border-radius: 0.25em;\n",
       "  box-sizing: border-box;\n",
       "  margin-bottom: 0.5em;\n",
       "  /* unfitted */\n",
       "  background-color: var(--sklearn-color-unfitted-level-0);\n",
       "}\n",
       "\n",
       "#sk-container-id-1 div.sk-estimator.fitted {\n",
       "  /* fitted */\n",
       "  background-color: var(--sklearn-color-fitted-level-0);\n",
       "}\n",
       "\n",
       "/* on hover */\n",
       "#sk-container-id-1 div.sk-estimator:hover {\n",
       "  /* unfitted */\n",
       "  background-color: var(--sklearn-color-unfitted-level-2);\n",
       "}\n",
       "\n",
       "#sk-container-id-1 div.sk-estimator.fitted:hover {\n",
       "  /* fitted */\n",
       "  background-color: var(--sklearn-color-fitted-level-2);\n",
       "}\n",
       "\n",
       "/* Specification for estimator info (e.g. \"i\" and \"?\") */\n",
       "\n",
       "/* Common style for \"i\" and \"?\" */\n",
       "\n",
       ".sk-estimator-doc-link,\n",
       "a:link.sk-estimator-doc-link,\n",
       "a:visited.sk-estimator-doc-link {\n",
       "  float: right;\n",
       "  font-size: smaller;\n",
       "  line-height: 1em;\n",
       "  font-family: monospace;\n",
       "  background-color: var(--sklearn-color-background);\n",
       "  border-radius: 1em;\n",
       "  height: 1em;\n",
       "  width: 1em;\n",
       "  text-decoration: none !important;\n",
       "  margin-left: 1ex;\n",
       "  /* unfitted */\n",
       "  border: var(--sklearn-color-unfitted-level-1) 1pt solid;\n",
       "  color: var(--sklearn-color-unfitted-level-1);\n",
       "}\n",
       "\n",
       ".sk-estimator-doc-link.fitted,\n",
       "a:link.sk-estimator-doc-link.fitted,\n",
       "a:visited.sk-estimator-doc-link.fitted {\n",
       "  /* fitted */\n",
       "  border: var(--sklearn-color-fitted-level-1) 1pt solid;\n",
       "  color: var(--sklearn-color-fitted-level-1);\n",
       "}\n",
       "\n",
       "/* On hover */\n",
       "div.sk-estimator:hover .sk-estimator-doc-link:hover,\n",
       ".sk-estimator-doc-link:hover,\n",
       "div.sk-label-container:hover .sk-estimator-doc-link:hover,\n",
       ".sk-estimator-doc-link:hover {\n",
       "  /* unfitted */\n",
       "  background-color: var(--sklearn-color-unfitted-level-3);\n",
       "  color: var(--sklearn-color-background);\n",
       "  text-decoration: none;\n",
       "}\n",
       "\n",
       "div.sk-estimator.fitted:hover .sk-estimator-doc-link.fitted:hover,\n",
       ".sk-estimator-doc-link.fitted:hover,\n",
       "div.sk-label-container:hover .sk-estimator-doc-link.fitted:hover,\n",
       ".sk-estimator-doc-link.fitted:hover {\n",
       "  /* fitted */\n",
       "  background-color: var(--sklearn-color-fitted-level-3);\n",
       "  color: var(--sklearn-color-background);\n",
       "  text-decoration: none;\n",
       "}\n",
       "\n",
       "/* Span, style for the box shown on hovering the info icon */\n",
       ".sk-estimator-doc-link span {\n",
       "  display: none;\n",
       "  z-index: 9999;\n",
       "  position: relative;\n",
       "  font-weight: normal;\n",
       "  right: .2ex;\n",
       "  padding: .5ex;\n",
       "  margin: .5ex;\n",
       "  width: min-content;\n",
       "  min-width: 20ex;\n",
       "  max-width: 50ex;\n",
       "  color: var(--sklearn-color-text);\n",
       "  box-shadow: 2pt 2pt 4pt #999;\n",
       "  /* unfitted */\n",
       "  background: var(--sklearn-color-unfitted-level-0);\n",
       "  border: .5pt solid var(--sklearn-color-unfitted-level-3);\n",
       "}\n",
       "\n",
       ".sk-estimator-doc-link.fitted span {\n",
       "  /* fitted */\n",
       "  background: var(--sklearn-color-fitted-level-0);\n",
       "  border: var(--sklearn-color-fitted-level-3);\n",
       "}\n",
       "\n",
       ".sk-estimator-doc-link:hover span {\n",
       "  display: block;\n",
       "}\n",
       "\n",
       "/* \"?\"-specific style due to the `<a>` HTML tag */\n",
       "\n",
       "#sk-container-id-1 a.estimator_doc_link {\n",
       "  float: right;\n",
       "  font-size: 1rem;\n",
       "  line-height: 1em;\n",
       "  font-family: monospace;\n",
       "  background-color: var(--sklearn-color-background);\n",
       "  border-radius: 1rem;\n",
       "  height: 1rem;\n",
       "  width: 1rem;\n",
       "  text-decoration: none;\n",
       "  /* unfitted */\n",
       "  color: var(--sklearn-color-unfitted-level-1);\n",
       "  border: var(--sklearn-color-unfitted-level-1) 1pt solid;\n",
       "}\n",
       "\n",
       "#sk-container-id-1 a.estimator_doc_link.fitted {\n",
       "  /* fitted */\n",
       "  border: var(--sklearn-color-fitted-level-1) 1pt solid;\n",
       "  color: var(--sklearn-color-fitted-level-1);\n",
       "}\n",
       "\n",
       "/* On hover */\n",
       "#sk-container-id-1 a.estimator_doc_link:hover {\n",
       "  /* unfitted */\n",
       "  background-color: var(--sklearn-color-unfitted-level-3);\n",
       "  color: var(--sklearn-color-background);\n",
       "  text-decoration: none;\n",
       "}\n",
       "\n",
       "#sk-container-id-1 a.estimator_doc_link.fitted:hover {\n",
       "  /* fitted */\n",
       "  background-color: var(--sklearn-color-fitted-level-3);\n",
       "}\n",
       "</style><div id=\"sk-container-id-1\" class=\"sk-top-container\"><div class=\"sk-text-repr-fallback\"><pre>NearestNeighbors(algorithm=&#x27;brute&#x27;, metric=&#x27;cosine&#x27;, n_jobs=1)</pre><b>In a Jupyter environment, please rerun this cell to show the HTML representation or trust the notebook. <br />On GitHub, the HTML representation is unable to render, please try loading this page with nbviewer.org.</b></div><div class=\"sk-container\" hidden><div class=\"sk-item\"><div class=\"sk-estimator fitted sk-toggleable\"><input class=\"sk-toggleable__control sk-hidden--visually\" id=\"sk-estimator-id-1\" type=\"checkbox\" checked><label for=\"sk-estimator-id-1\" class=\"sk-toggleable__label fitted sk-toggleable__label-arrow fitted\">&nbsp;&nbsp;NearestNeighbors<a class=\"sk-estimator-doc-link fitted\" rel=\"noreferrer\" target=\"_blank\" href=\"https://scikit-learn.org/1.4/modules/generated/sklearn.neighbors.NearestNeighbors.html\">?<span>Documentation for NearestNeighbors</span></a><span class=\"sk-estimator-doc-link fitted\">i<span>Fitted</span></span></label><div class=\"sk-toggleable__content fitted\"><pre>NearestNeighbors(algorithm=&#x27;brute&#x27;, metric=&#x27;cosine&#x27;, n_jobs=1)</pre></div> </div></div></div></div>"
      ],
      "text/plain": [
       "NearestNeighbors(algorithm='brute', metric='cosine', n_jobs=1)"
      ]
     },
     "execution_count": 22,
     "metadata": {},
     "output_type": "execute_result"
    }
   ],
   "source": [
    "model_knn = NearestNeighbors(metric='cosine', algorithm='brute', n_neighbors=5, n_jobs=1)\n",
    "model_knn.fit(sparse_train)"
   ]
  },
  {
   "cell_type": "markdown",
   "id": "1b7b10e0-efb1-4be7-a7a2-5ce4c0734409",
   "metadata": {},
   "source": [
    "I'm creating a dictionary to map the **original** movieId to the title of the movie."
   ]
  },
  {
   "cell_type": "code",
   "execution_count": 23,
   "id": "a431175e-1f04-4169-ba60-16dfe8166538",
   "metadata": {},
   "outputs": [],
   "source": [
    "movie_titles = dict(zip(movies_df['movieId'], movies_df['title']))"
   ]
  },
  {
   "cell_type": "markdown",
   "id": "cc97a4fa-d3e7-4cd2-93de-97896e5a7ce0",
   "metadata": {},
   "source": [
    "Now, another dictionary to map the index in the matrix to each of the movie titles:"
   ]
  },
  {
   "cell_type": "code",
   "execution_count": 24,
   "id": "b7191522-34cc-4f57-bd9c-05bbb0ce8557",
   "metadata": {},
   "outputs": [],
   "source": [
    "new_index_title = {movie_mapper_train[k]: movie_titles[k] for k in movie_mapper_train}"
   ]
  },
  {
   "cell_type": "markdown",
   "id": "e7edabcd-3ee0-4f3c-adbc-d194b2cf7cee",
   "metadata": {},
   "source": [
    "Then, this function will give the top `N` recommendations:"
   ]
  },
  {
   "cell_type": "code",
   "execution_count": 25,
   "id": "5a66f95d-65e5-4742-827d-17159d4e7315",
   "metadata": {},
   "outputs": [],
   "source": [
    "def movie_recommender(movie_title, n_recommendations, sparse_matrix, movie_mapper):\n",
    "    # Get the movieId in the movies_df data set\n",
    "    movie_id = movies_df[movies_df['title'] == movie_title].movieId.iloc[0]\n",
    "\n",
    "    # Convert that movieId to get its position in the sparse matrix\n",
    "    matrix_index = movie_mapper[movie_id]\n",
    "\n",
    "    for index in model_knn.kneighbors(sparse_matrix[matrix_index], n_recommendations+1)[1][0][1:]:\n",
    "        print(new_index_title[index])        "
   ]
  },
  {
   "cell_type": "code",
   "execution_count": 26,
   "id": "df624dbd-0fa2-4290-a998-0f1e64abc087",
   "metadata": {},
   "outputs": [
    {
     "name": "stdout",
     "output_type": "stream",
     "text": [
      "Star Wars: Episode V - The Empire Strikes Back (1980)\n",
      "Star Wars: Episode VI - Return of the Jedi (1983)\n",
      "Raiders of the Lost Ark (Indiana Jones and the Raiders of the Lost Ark) (1981)\n",
      "Matrix, The (1999)\n",
      "Indiana Jones and the Last Crusade (1989)\n",
      "Back to the Future (1985)\n",
      "Terminator, The (1984)\n",
      "Lord of the Rings: The Fellowship of the Ring, The (2001)\n",
      "Alien (1979)\n",
      "Terminator 2: Judgment Day (1991)\n"
     ]
    }
   ],
   "source": [
    "movie_recommender('Star Wars: Episode IV - A New Hope (1977)', 10, sparse_train, movie_mapper_train)"
   ]
  },
  {
   "cell_type": "code",
   "execution_count": 27,
   "id": "ae899380-ed09-488e-89d9-b3db5c42c85b",
   "metadata": {},
   "outputs": [
    {
     "name": "stdout",
     "output_type": "stream",
     "text": [
      "Fight Club (1999)\n",
      "Lord of the Rings: The Fellowship of the Ring, The (2001)\n",
      "Star Wars: Episode V - The Empire Strikes Back (1980)\n",
      "Lord of the Rings: The Two Towers, The (2002)\n",
      "Lord of the Rings: The Return of the King, The (2003)\n",
      "Star Wars: Episode IV - A New Hope (1977)\n",
      "Gladiator (2000)\n",
      "Raiders of the Lost Ark (Indiana Jones and the Raiders of the Lost Ark) (1981)\n",
      "Sixth Sense, The (1999)\n",
      "Saving Private Ryan (1998)\n"
     ]
    }
   ],
   "source": [
    "movie_recommender('Matrix, The (1999)', 10, sparse_train, movie_mapper_train)"
   ]
  },
  {
   "cell_type": "markdown",
   "id": "c9f395e5-bffc-4d53-bc99-b842084a802e",
   "metadata": {},
   "source": [
    "## Test the accuracy of the model"
   ]
  },
  {
   "cell_type": "code",
   "execution_count": 47,
   "id": "d0381361-2667-4d89-a34b-1a15b9f61490",
   "metadata": {},
   "outputs": [],
   "source": [
    "# Find top 20 similar movies for each user's highly rated movies\n",
    "top_k = 20\n",
    "threshold = 3.5"
   ]
  },
  {
   "cell_type": "code",
   "execution_count": null,
   "id": "ed8b1683-57b1-4aa2-8161-3237800b5666",
   "metadata": {},
   "outputs": [],
   "source": [
    "# Create a mapping from movieId to matrix index\n",
    "movie_index = {movie: index for index, movie in enumerate(train_ratings_matrix.index)}"
   ]
  },
  {
   "cell_type": "code",
   "execution_count": null,
   "id": "57e0ef9d-f6ae-4c14-aca3-9c4dfdf12005",
   "metadata": {},
   "outputs": [],
   "source": [
    "# Function to get top K similar movies\n",
    "def get_top_k_similar(movie_id, k, similarity_matrix):\n",
    "    movie_idx = new_index_title[movie_id]\n",
    "    similarity_scores = list(enumerate(similarity_matrix[movie_idx]))\n",
    "    similarity_scores = sorted(similarity_scores, key=lambda x: x[1], reverse=True)\n",
    "    top_k_indices = [x[0] for x in similarity_scores[1:k+1]]\n",
    "    top_k_movie_ids = [train_ratings_matrix.index[i] for i in top_k_indices]\n",
    "    return top_k_movie_ids"
   ]
  },
  {
   "cell_type": "code",
   "execution_count": null,
   "id": "caf1bed9-4554-4185-9915-0ab747949e63",
   "metadata": {},
   "outputs": [],
   "source": []
  },
  {
   "cell_type": "code",
   "execution_count": null,
   "id": "3319a3e2-386a-473b-8509-bc8517b99fe0",
   "metadata": {},
   "outputs": [],
   "source": []
  },
  {
   "cell_type": "code",
   "execution_count": 222,
   "id": "e23d3cd7-931f-4300-a676-18a014c16b10",
   "metadata": {
    "scrolled": true
   },
   "outputs": [],
   "source": [
    "# Get relevant data for a specific user (where the rating has been 4 or more)\n",
    "user2_df = train_df[(train_df['userId'] == 92046) & (train_df['rating']>=4)][['movieId', 'rating']] #72315"
   ]
  },
  {
   "cell_type": "code",
   "execution_count": 223,
   "id": "6a74d8c8-2b92-40bd-8df6-b269c627e55e",
   "metadata": {},
   "outputs": [],
   "source": [
    "# Convert the data into a dictionary where each movieId is the key and the rating is the value\n",
    "movie_rating_dict = user2_df.set_index('movieId')['rating'].to_dict()"
   ]
  },
  {
   "cell_type": "code",
   "execution_count": 224,
   "id": "f6790e9a-06b9-489f-a41d-5214d56381f6",
   "metadata": {},
   "outputs": [],
   "source": [
    "# Since the sparse matrix have a different index for each movie that the movieId, I need to create another dictionary\n",
    "# to transform the previous one and map the information with those new indexes of the sparse matrix\n",
    "index_rating_dict = {}\n",
    "\n",
    "for k in movie_rating_dict:\n",
    "    index_rating_dict[movie_mapper_train[k]] = movie_rating_dict[k]"
   ]
  },
  {
   "cell_type": "code",
   "execution_count": 225,
   "id": "54d03936-786b-425e-a8c7-9463c42b78c2",
   "metadata": {},
   "outputs": [],
   "source": [
    "# List to add the recommended indexes of the sparse matrix\n",
    "top_recommended_indexes = []\n",
    "\n",
    "# Dictionary to weight the distance of the movies\n",
    "# I want to give more importance to the movies that \n",
    "# were rated with a 5 than the others\n",
    "weights_dict = {5.0: 1.0, \n",
    "                4.5: 0.95,\n",
    "                4.0: 0.9}\n",
    "\n",
    "# Iterate through the dictionary to get the most similar movies\n",
    "for i in index_rating_dict:\n",
    "    distances, indexes = model_knn.kneighbors(sparse_train[i], 20+1)\n",
    "\n",
    "    for (dist, ind) in zip(distances.squeeze()[1:], indexes.squeeze()[1:]):\n",
    "        # I will append the movie if the user has not watched it already and the index hasn't been appended yet\n",
    "        if ind not in index_rating_dict:\n",
    "            w = weights_dict[index_rating_dict[i]] # calculate the weight \n",
    "            top_recommended_indexes.append((dist*w, ind)) \n",
    "            \n",
    "top_recommended_indexes = sorted(top_recommended_movies, key=lambda x: x[0], reverse=True)    "
   ]
  },
  {
   "cell_type": "code",
   "execution_count": 226,
   "id": "c9a8cf53-a23f-43a8-acc3-2cc1d19e59ac",
   "metadata": {},
   "outputs": [
    {
     "data": {
      "text/plain": [
       "514"
      ]
     },
     "execution_count": 226,
     "metadata": {},
     "output_type": "execute_result"
    }
   ],
   "source": [
    "len(top_recommended_indexes)"
   ]
  },
  {
   "cell_type": "code",
   "execution_count": 227,
   "id": "3f4727d0-479a-4dc1-9a75-d46513508589",
   "metadata": {},
   "outputs": [],
   "source": [
    "recommended_movies = set()\n",
    "\n",
    "for _, i in top_recommended_indexes:\n",
    "    if len(recommended_movies) < 1000:\n",
    "        recommended_movies.add(index_to_movieId[i])\n",
    "    else:\n",
    "        break    "
   ]
  },
  {
   "cell_type": "code",
   "execution_count": 228,
   "id": "b61e677b-e939-426a-bfbb-5e1e3bcfbe94",
   "metadata": {},
   "outputs": [
    {
     "data": {
      "text/plain": [
       "340"
      ]
     },
     "execution_count": 228,
     "metadata": {},
     "output_type": "execute_result"
    }
   ],
   "source": [
    "len(recommended_movies)"
   ]
  },
  {
   "cell_type": "code",
   "execution_count": 232,
   "id": "6bc8f596-cc6f-47c4-a7e7-cc7bdd30c660",
   "metadata": {},
   "outputs": [],
   "source": [
    "liked_test_movies = set(test_df[(test_df['userId'] == 92046) & (test_df['rating']>=3.5)].movieId)\n",
    "disliked_test_movies = set(test_df[(test_df['userId'] == 92046) & (test_df['rating'] < 3.0)].movieId)"
   ]
  },
  {
   "cell_type": "code",
   "execution_count": 233,
   "id": "78e19177-ca3c-45cf-8f2d-0187f66afff8",
   "metadata": {},
   "outputs": [
    {
     "name": "stdout",
     "output_type": "stream",
     "text": [
      "333\n"
     ]
    }
   ],
   "source": [
    "liked_difference = recommended_movies - liked_test_movies\n",
    "print(len(liked_difference))"
   ]
  },
  {
   "cell_type": "code",
   "execution_count": 234,
   "id": "67e57391-4760-42d2-bcf8-a0bf77dda0a9",
   "metadata": {},
   "outputs": [
    {
     "name": "stdout",
     "output_type": "stream",
     "text": [
      "333\n"
     ]
    }
   ],
   "source": [
    "disliked_difference = recommended_movies - disliked_test_movies\n",
    "print(len(disliked_difference))"
   ]
  },
  {
   "cell_type": "code",
   "execution_count": null,
   "id": "1c846f30-1531-414e-b8c9-a2edcc55a779",
   "metadata": {},
   "outputs": [],
   "source": []
  },
  {
   "cell_type": "code",
   "execution_count": 188,
   "id": "46b32f75-9e10-4bc7-bb68-d97641ca2c02",
   "metadata": {},
   "outputs": [],
   "source": [
    "index_to_movieId = {v: k for (k,v) in movie_mapper_train.items()}"
   ]
  },
  {
   "cell_type": "code",
   "execution_count": 189,
   "id": "ec3a1eff-1b6a-491d-90d0-883e67408301",
   "metadata": {},
   "outputs": [
    {
     "data": {
      "text/plain": [
       "3073"
      ]
     },
     "execution_count": 189,
     "metadata": {},
     "output_type": "execute_result"
    }
   ],
   "source": [
    "movie_mapper_train[3495]"
   ]
  },
  {
   "cell_type": "code",
   "execution_count": 190,
   "id": "d56caf64-2eea-4404-8779-4dde9179700e",
   "metadata": {},
   "outputs": [
    {
     "data": {
      "text/plain": [
       "3495"
      ]
     },
     "execution_count": 190,
     "metadata": {},
     "output_type": "execute_result"
    }
   ],
   "source": [
    "index_to_movieId[3073]"
   ]
  },
  {
   "cell_type": "code",
   "execution_count": 191,
   "id": "422ddc5d-3a9b-480d-997d-93d98437ec8d",
   "metadata": {},
   "outputs": [],
   "source": [
    "recommended_movieIds = []\n",
    "for _, i in top_50_recommended:\n",
    "    recommended_movieIds.append(index_to_movieId[i])\n",
    "\n",
    "recommended_movies_set = set(recommended_movieIds)"
   ]
  },
  {
   "cell_type": "code",
   "execution_count": 192,
   "id": "799faafd-30d8-4458-97f6-45017e53ba0d",
   "metadata": {},
   "outputs": [],
   "source": [
    "liked_test_movies = set(test_df[(test_df['userId'] == 1) & (test_df['rating']>=3.5)].movieId)"
   ]
  },
  {
   "cell_type": "code",
   "execution_count": 193,
   "id": "c71454b1-40b0-4192-959f-c75e8ba63a67",
   "metadata": {},
   "outputs": [],
   "source": [
    "disliked_test_movies = set(test_df[(test_df['userId'] == 1) & (test_df['rating'] < 3.5)].movieId)"
   ]
  },
  {
   "cell_type": "code",
   "execution_count": 194,
   "id": "fb724f07-f88f-435d-9a31-d2d7c02ef703",
   "metadata": {},
   "outputs": [],
   "source": [
    "difference = recommended_movies_set - liked_test_movies"
   ]
  },
  {
   "cell_type": "code",
   "execution_count": 195,
   "id": "5dd7269a-4e23-400c-8d33-4c8a9975d775",
   "metadata": {},
   "outputs": [
    {
     "data": {
      "text/plain": [
       "168"
      ]
     },
     "execution_count": 195,
     "metadata": {},
     "output_type": "execute_result"
    }
   ],
   "source": [
    "len(difference)"
   ]
  },
  {
   "cell_type": "code",
   "execution_count": 196,
   "id": "cb74c366-f8b9-4384-a0a3-78e6e855c82d",
   "metadata": {},
   "outputs": [
    {
     "data": {
      "text/plain": [
       "170"
      ]
     },
     "execution_count": 196,
     "metadata": {},
     "output_type": "execute_result"
    }
   ],
   "source": [
    "len(recommended_movies_set)"
   ]
  },
  {
   "cell_type": "code",
   "execution_count": 197,
   "id": "43f69885-52c5-448b-b433-68ab8ff7a7a0",
   "metadata": {},
   "outputs": [
    {
     "data": {
      "text/plain": [
       "170"
      ]
     },
     "execution_count": 197,
     "metadata": {},
     "output_type": "execute_result"
    }
   ],
   "source": [
    "disliked_difference = recommended_movies_set - disliked_test_movies\n",
    "len(disliked_difference)"
   ]
  },
  {
   "cell_type": "code",
   "execution_count": 57,
   "id": "6e40eeab-7e51-4da4-94b0-c8c46dedd3db",
   "metadata": {},
   "outputs": [
    {
     "data": {
      "text/html": [
       "<div>\n",
       "<style scoped>\n",
       "    .dataframe tbody tr th:only-of-type {\n",
       "        vertical-align: middle;\n",
       "    }\n",
       "\n",
       "    .dataframe tbody tr th {\n",
       "        vertical-align: top;\n",
       "    }\n",
       "\n",
       "    .dataframe thead th {\n",
       "        text-align: right;\n",
       "    }\n",
       "</style>\n",
       "<table border=\"1\" class=\"dataframe\">\n",
       "  <thead>\n",
       "    <tr style=\"text-align: right;\">\n",
       "      <th></th>\n",
       "      <th>movieId</th>\n",
       "      <th>title</th>\n",
       "      <th>genres</th>\n",
       "    </tr>\n",
       "  </thead>\n",
       "  <tbody>\n",
       "    <tr>\n",
       "      <th>1217</th>\n",
       "      <td>1250</td>\n",
       "      <td>Bridge on the River Kwai, The (1957)</td>\n",
       "      <td>Adventure|Drama|War</td>\n",
       "    </tr>\n",
       "  </tbody>\n",
       "</table>\n",
       "</div>"
      ],
      "text/plain": [
       "      movieId                                 title               genres\n",
       "1217     1250  Bridge on the River Kwai, The (1957)  Adventure|Drama|War"
      ]
     },
     "execution_count": 57,
     "metadata": {},
     "output_type": "execute_result"
    }
   ],
   "source": [
    "movies_df[movies_df['movieId'] == 1250]"
   ]
  },
  {
   "cell_type": "code",
   "execution_count": 55,
   "id": "ea9ee244-1f9b-457e-b488-46492c2223aa",
   "metadata": {},
   "outputs": [
    {
     "data": {
      "text/plain": [
       "1106"
      ]
     },
     "execution_count": 55,
     "metadata": {},
     "output_type": "execute_result"
    }
   ],
   "source": [
    "movie_mapper_train[1250]"
   ]
  },
  {
   "cell_type": "code",
   "execution_count": 56,
   "id": "f9154c2e-8b05-4a30-ad0f-0fa836bc91cc",
   "metadata": {},
   "outputs": [
    {
     "data": {
      "text/plain": [
       "array([[4., 0., 0., ..., 0., 0., 0.]])"
      ]
     },
     "execution_count": 56,
     "metadata": {},
     "output_type": "execute_result"
    }
   ],
   "source": [
    "sparse_train[1106].toarray()"
   ]
  },
  {
   "cell_type": "code",
   "execution_count": 65,
   "id": "2c93b85e-41de-44e2-b0f5-4bcde5e1fe5b",
   "metadata": {},
   "outputs": [],
   "source": [
    "distances, indexes = model_knn.kneighbors(sparse_train[1106], 5+1)"
   ]
  },
  {
   "cell_type": "code",
   "execution_count": 70,
   "id": "db2e7d7e-1e81-4e45-ba38-f621c3ba30ee",
   "metadata": {},
   "outputs": [
    {
     "name": "stdout",
     "output_type": "stream",
     "text": [
      "Distance: 0.5262974518661587, index: 1063\n",
      "Distance: 0.54578482763935, index: 1118\n",
      "Distance: 0.5682831124920518, index: 1128\n",
      "Distance: 0.573009006289209, index: 865\n",
      "Distance: 0.5733032796265639, index: 808\n"
     ]
    }
   ],
   "source": [
    "for (d, i) in zip(distances.squeeze()[1:], indexes.squeeze()[1:]):\n",
    "    print(f\"Distance: {d}, index: {i}\")"
   ]
  },
  {
   "cell_type": "code",
   "execution_count": 125,
   "id": "e22cd4cb-8669-42f0-b12b-c7defc563629",
   "metadata": {},
   "outputs": [
    {
     "data": {
      "text/html": [
       "<div>\n",
       "<style scoped>\n",
       "    .dataframe tbody tr th:only-of-type {\n",
       "        vertical-align: middle;\n",
       "    }\n",
       "\n",
       "    .dataframe tbody tr th {\n",
       "        vertical-align: top;\n",
       "    }\n",
       "\n",
       "    .dataframe thead th {\n",
       "        text-align: right;\n",
       "    }\n",
       "</style>\n",
       "<table border=\"1\" class=\"dataframe\">\n",
       "  <thead>\n",
       "    <tr style=\"text-align: right;\">\n",
       "      <th></th>\n",
       "      <th>rating</th>\n",
       "    </tr>\n",
       "    <tr>\n",
       "      <th>userId</th>\n",
       "      <th></th>\n",
       "    </tr>\n",
       "  </thead>\n",
       "  <tbody>\n",
       "    <tr>\n",
       "      <th>72315</th>\n",
       "      <td>2642</td>\n",
       "    </tr>\n",
       "    <tr>\n",
       "      <th>80974</th>\n",
       "      <td>1726</td>\n",
       "    </tr>\n",
       "    <tr>\n",
       "      <th>20055</th>\n",
       "      <td>1706</td>\n",
       "    </tr>\n",
       "    <tr>\n",
       "      <th>33844</th>\n",
       "      <td>1560</td>\n",
       "    </tr>\n",
       "    <tr>\n",
       "      <th>92046</th>\n",
       "      <td>1463</td>\n",
       "    </tr>\n",
       "    <tr>\n",
       "      <th>...</th>\n",
       "      <td>...</td>\n",
       "    </tr>\n",
       "    <tr>\n",
       "      <th>59003</th>\n",
       "      <td>8</td>\n",
       "    </tr>\n",
       "    <tr>\n",
       "      <th>97364</th>\n",
       "      <td>7</td>\n",
       "    </tr>\n",
       "    <tr>\n",
       "      <th>97460</th>\n",
       "      <td>5</td>\n",
       "    </tr>\n",
       "    <tr>\n",
       "      <th>8681</th>\n",
       "      <td>4</td>\n",
       "    </tr>\n",
       "    <tr>\n",
       "      <th>84947</th>\n",
       "      <td>2</td>\n",
       "    </tr>\n",
       "  </tbody>\n",
       "</table>\n",
       "<p>102492 rows × 1 columns</p>\n",
       "</div>"
      ],
      "text/plain": [
       "        rating\n",
       "userId        \n",
       "72315     2642\n",
       "80974     1726\n",
       "20055     1706\n",
       "33844     1560\n",
       "92046     1463\n",
       "...        ...\n",
       "59003        8\n",
       "97364        7\n",
       "97460        5\n",
       "8681         4\n",
       "84947        2\n",
       "\n",
       "[102492 rows x 1 columns]"
      ]
     },
     "execution_count": 125,
     "metadata": {},
     "output_type": "execute_result"
    }
   ],
   "source": [
    "test_df[['rating', 'userId']].groupby('userId').count().sort_values(by='rating', ascending=False)"
   ]
  },
  {
   "cell_type": "code",
   "execution_count": 153,
   "id": "8be8e6e7-8b27-4ef6-bde3-a6ac46dff19f",
   "metadata": {},
   "outputs": [
    {
     "data": {
      "text/html": [
       "<div>\n",
       "<style scoped>\n",
       "    .dataframe tbody tr th:only-of-type {\n",
       "        vertical-align: middle;\n",
       "    }\n",
       "\n",
       "    .dataframe tbody tr th {\n",
       "        vertical-align: top;\n",
       "    }\n",
       "\n",
       "    .dataframe thead th {\n",
       "        text-align: right;\n",
       "    }\n",
       "</style>\n",
       "<table border=\"1\" class=\"dataframe\">\n",
       "  <thead>\n",
       "    <tr style=\"text-align: right;\">\n",
       "      <th></th>\n",
       "      <th>userId</th>\n",
       "      <th>movieId</th>\n",
       "      <th>rating</th>\n",
       "    </tr>\n",
       "  </thead>\n",
       "  <tbody>\n",
       "    <tr>\n",
       "      <th>2514516</th>\n",
       "      <td>72315</td>\n",
       "      <td>2788</td>\n",
       "      <td>3.5</td>\n",
       "    </tr>\n",
       "    <tr>\n",
       "      <th>2514519</th>\n",
       "      <td>72315</td>\n",
       "      <td>6394</td>\n",
       "      <td>3.5</td>\n",
       "    </tr>\n",
       "    <tr>\n",
       "      <th>2514523</th>\n",
       "      <td>72315</td>\n",
       "      <td>45837</td>\n",
       "      <td>3.5</td>\n",
       "    </tr>\n",
       "    <tr>\n",
       "      <th>2514528</th>\n",
       "      <td>72315</td>\n",
       "      <td>26271</td>\n",
       "      <td>3.5</td>\n",
       "    </tr>\n",
       "    <tr>\n",
       "      <th>2514534</th>\n",
       "      <td>72315</td>\n",
       "      <td>5353</td>\n",
       "      <td>3.5</td>\n",
       "    </tr>\n",
       "    <tr>\n",
       "      <th>...</th>\n",
       "      <td>...</td>\n",
       "      <td>...</td>\n",
       "      <td>...</td>\n",
       "    </tr>\n",
       "    <tr>\n",
       "      <th>2517142</th>\n",
       "      <td>72315</td>\n",
       "      <td>193942</td>\n",
       "      <td>3.5</td>\n",
       "    </tr>\n",
       "    <tr>\n",
       "      <th>2517147</th>\n",
       "      <td>72315</td>\n",
       "      <td>201646</td>\n",
       "      <td>3.5</td>\n",
       "    </tr>\n",
       "    <tr>\n",
       "      <th>2517148</th>\n",
       "      <td>72315</td>\n",
       "      <td>722</td>\n",
       "      <td>4.5</td>\n",
       "    </tr>\n",
       "    <tr>\n",
       "      <th>2517149</th>\n",
       "      <td>72315</td>\n",
       "      <td>1872</td>\n",
       "      <td>3.5</td>\n",
       "    </tr>\n",
       "    <tr>\n",
       "      <th>2517150</th>\n",
       "      <td>72315</td>\n",
       "      <td>42634</td>\n",
       "      <td>3.5</td>\n",
       "    </tr>\n",
       "  </tbody>\n",
       "</table>\n",
       "<p>491 rows × 3 columns</p>\n",
       "</div>"
      ],
      "text/plain": [
       "         userId  movieId  rating\n",
       "2514516   72315     2788     3.5\n",
       "2514519   72315     6394     3.5\n",
       "2514523   72315    45837     3.5\n",
       "2514528   72315    26271     3.5\n",
       "2514534   72315     5353     3.5\n",
       "...         ...      ...     ...\n",
       "2517142   72315   193942     3.5\n",
       "2517147   72315   201646     3.5\n",
       "2517148   72315      722     4.5\n",
       "2517149   72315     1872     3.5\n",
       "2517150   72315    42634     3.5\n",
       "\n",
       "[491 rows x 3 columns]"
      ]
     },
     "execution_count": 153,
     "metadata": {},
     "output_type": "execute_result"
    }
   ],
   "source": [
    "test_df[(test_df['userId'] == 72315) & (test_df['rating'] >= 3.5)]"
   ]
  },
  {
   "cell_type": "code",
   "execution_count": null,
   "id": "257d9515-f89a-4f58-9582-9372197a891a",
   "metadata": {},
   "outputs": [],
   "source": []
  }
 ],
 "metadata": {
  "kernelspec": {
   "display_name": "Python 3 (ipykernel)",
   "language": "python",
   "name": "python3"
  },
  "language_info": {
   "codemirror_mode": {
    "name": "ipython",
    "version": 3
   },
   "file_extension": ".py",
   "mimetype": "text/x-python",
   "name": "python",
   "nbconvert_exporter": "python",
   "pygments_lexer": "ipython3",
   "version": "3.12.2"
  }
 },
 "nbformat": 4,
 "nbformat_minor": 5
}
